{
 "cells": [
  {
   "cell_type": "code",
   "execution_count": 16,
   "metadata": {},
   "outputs": [
    {
     "name": "stdout",
     "output_type": "stream",
     "text": [
      "Collecting resume-parserNote: you may need to restart the kernel to use updated packages.\n",
      "\n",
      "  Downloading resume_parser-0.8.4-py3-none-any.whl (9.2 MB)\n",
      "Collecting tika>=1.24\n",
      "  Downloading tika-2.6.0.tar.gz (27 kB)\n",
      "  Preparing metadata (setup.py): started\n",
      "  Preparing metadata (setup.py): finished with status 'done'\n",
      "Requirement already satisfied: docx2txt>=0.8 in c:\\users\\aryan\\desktop\\codeshastra\\codeshahstra_hojayega\\codes\\lib\\site-packages (from resume-parser) (0.8)\n",
      "Requirement already satisfied: numpy>=1.19.1 in c:\\users\\aryan\\desktop\\codeshastra\\codeshahstra_hojayega\\codes\\lib\\site-packages (from resume-parser) (1.23.5)\n",
      "Collecting pdfplumber>=0.5.23\n",
      "  Downloading pdfplumber-0.8.0-py3-none-any.whl (43 kB)\n",
      "Requirement already satisfied: pdfminer.six>=20200517 in c:\\users\\aryan\\desktop\\codeshastra\\codeshahstra_hojayega\\codes\\lib\\site-packages (from resume-parser) (20221105)\n",
      "Requirement already satisfied: spacy>=2.3.2 in c:\\users\\aryan\\desktop\\codeshastra\\codeshahstra_hojayega\\codes\\lib\\site-packages (from resume-parser) (2.3.9)\n",
      "Requirement already satisfied: pandas>=1.1.0 in c:\\users\\aryan\\desktop\\codeshastra\\codeshahstra_hojayega\\codes\\lib\\site-packages (from resume-parser) (2.0.0)\n",
      "Collecting stemming>=1.0.1\n",
      "  Downloading stemming-1.0.1.zip (13 kB)\n",
      "  Preparing metadata (setup.py): started\n",
      "  Preparing metadata (setup.py): finished with status 'done'\n",
      "Collecting phonenumbers>=8.12.7\n",
      "  Downloading phonenumbers-8.13.8-py2.py3-none-any.whl (2.6 MB)\n",
      "Requirement already satisfied: nltk>=3.5 in c:\\users\\aryan\\desktop\\codeshastra\\codeshahstra_hojayega\\codes\\lib\\site-packages (from resume-parser) (3.8.1)\n",
      "Requirement already satisfied: joblib in c:\\users\\aryan\\desktop\\codeshastra\\codeshahstra_hojayega\\codes\\lib\\site-packages (from nltk>=3.5->resume-parser) (1.2.0)\n",
      "Requirement already satisfied: click in c:\\users\\aryan\\desktop\\codeshastra\\codeshahstra_hojayega\\codes\\lib\\site-packages (from nltk>=3.5->resume-parser) (8.1.3)\n",
      "Requirement already satisfied: regex>=2021.8.3 in c:\\users\\aryan\\desktop\\codeshastra\\codeshahstra_hojayega\\codes\\lib\\site-packages (from nltk>=3.5->resume-parser) (2023.3.23)\n",
      "Requirement already satisfied: tqdm in c:\\users\\aryan\\desktop\\codeshastra\\codeshahstra_hojayega\\codes\\lib\\site-packages (from nltk>=3.5->resume-parser) (4.65.0)\n",
      "Requirement already satisfied: python-dateutil>=2.8.2 in c:\\users\\aryan\\desktop\\codeshastra\\codeshahstra_hojayega\\codes\\lib\\site-packages (from pandas>=1.1.0->resume-parser) (2.8.2)\n",
      "Requirement already satisfied: tzdata>=2022.1 in c:\\users\\aryan\\desktop\\codeshastra\\codeshahstra_hojayega\\codes\\lib\\site-packages (from pandas>=1.1.0->resume-parser) (2023.3)\n",
      "Requirement already satisfied: pytz>=2020.1 in c:\\users\\aryan\\desktop\\codeshastra\\codeshahstra_hojayega\\codes\\lib\\site-packages (from pandas>=1.1.0->resume-parser) (2023.3)\n",
      "Requirement already satisfied: cryptography>=36.0.0 in c:\\users\\aryan\\desktop\\codeshastra\\codeshahstra_hojayega\\codes\\lib\\site-packages (from pdfminer.six>=20200517->resume-parser) (40.0.1)\n",
      "Requirement already satisfied: charset-normalizer>=2.0.0 in c:\\users\\aryan\\desktop\\codeshastra\\codeshahstra_hojayega\\codes\\lib\\site-packages (from pdfminer.six>=20200517->resume-parser) (3.1.0)\n",
      "Requirement already satisfied: Pillow>=9.1 in c:\\users\\aryan\\desktop\\codeshastra\\codeshahstra_hojayega\\codes\\lib\\site-packages (from pdfplumber>=0.5.23->resume-parser) (9.5.0)\n",
      "Collecting Wand>=0.6.10\n",
      "  Downloading Wand-0.6.11-py2.py3-none-any.whl (143 kB)\n",
      "Requirement already satisfied: srsly<1.1.0,>=1.0.2 in c:\\users\\aryan\\desktop\\codeshastra\\codeshahstra_hojayega\\codes\\lib\\site-packages (from spacy>=2.3.2->resume-parser) (1.0.6)\n",
      "Requirement already satisfied: setuptools in c:\\users\\aryan\\desktop\\codeshastra\\codeshahstra_hojayega\\codes\\lib\\site-packages (from spacy>=2.3.2->resume-parser) (67.6.0)\n",
      "Requirement already satisfied: wasabi<1.1.0,>=0.4.0 in c:\\users\\aryan\\desktop\\codeshastra\\codeshahstra_hojayega\\codes\\lib\\site-packages (from spacy>=2.3.2->resume-parser) (0.10.1)\n",
      "Requirement already satisfied: catalogue<1.1.0,>=0.0.7 in c:\\users\\aryan\\desktop\\codeshastra\\codeshahstra_hojayega\\codes\\lib\\site-packages (from spacy>=2.3.2->resume-parser) (1.0.2)\n",
      "Requirement already satisfied: requests<3.0.0,>=2.13.0 in c:\\users\\aryan\\desktop\\codeshastra\\codeshahstra_hojayega\\codes\\lib\\site-packages (from spacy>=2.3.2->resume-parser) (2.28.2)\n",
      "Requirement already satisfied: preshed<3.1.0,>=3.0.2 in c:\\users\\aryan\\desktop\\codeshastra\\codeshahstra_hojayega\\codes\\lib\\site-packages (from spacy>=2.3.2->resume-parser) (3.0.8)\n",
      "Requirement already satisfied: plac<1.2.0,>=0.9.6 in c:\\users\\aryan\\desktop\\codeshastra\\codeshahstra_hojayega\\codes\\lib\\site-packages (from spacy>=2.3.2->resume-parser) (1.1.3)\n",
      "Requirement already satisfied: thinc<7.5.0,>=7.4.1 in c:\\users\\aryan\\desktop\\codeshastra\\codeshahstra_hojayega\\codes\\lib\\site-packages (from spacy>=2.3.2->resume-parser) (7.4.6)\n",
      "Requirement already satisfied: blis<0.8.0,>=0.4.0 in c:\\users\\aryan\\desktop\\codeshastra\\codeshahstra_hojayega\\codes\\lib\\site-packages (from spacy>=2.3.2->resume-parser) (0.7.9)\n",
      "Requirement already satisfied: murmurhash<1.1.0,>=0.28.0 in c:\\users\\aryan\\desktop\\codeshastra\\codeshahstra_hojayega\\codes\\lib\\site-packages (from spacy>=2.3.2->resume-parser) (1.0.9)\n",
      "Requirement already satisfied: cymem<2.1.0,>=2.0.2 in c:\\users\\aryan\\desktop\\codeshastra\\codeshahstra_hojayega\\codes\\lib\\site-packages (from spacy>=2.3.2->resume-parser) (2.0.7)\n",
      "Requirement already satisfied: cffi>=1.12 in c:\\users\\aryan\\desktop\\codeshastra\\codeshahstra_hojayega\\codes\\lib\\site-packages (from cryptography>=36.0.0->pdfminer.six>=20200517->resume-parser) (1.15.1)\n",
      "Requirement already satisfied: six>=1.5 in c:\\users\\aryan\\desktop\\codeshastra\\codeshahstra_hojayega\\codes\\lib\\site-packages (from python-dateutil>=2.8.2->pandas>=1.1.0->resume-parser) (1.16.0)\n",
      "Requirement already satisfied: idna<4,>=2.5 in c:\\users\\aryan\\desktop\\codeshastra\\codeshahstra_hojayega\\codes\\lib\\site-packages (from requests<3.0.0,>=2.13.0->spacy>=2.3.2->resume-parser) (3.4)\n",
      "Requirement already satisfied: certifi>=2017.4.17 in c:\\users\\aryan\\desktop\\codeshastra\\codeshahstra_hojayega\\codes\\lib\\site-packages (from requests<3.0.0,>=2.13.0->spacy>=2.3.2->resume-parser) (2022.12.7)\n",
      "Requirement already satisfied: urllib3<1.27,>=1.21.1 in c:\\users\\aryan\\desktop\\codeshastra\\codeshahstra_hojayega\\codes\\lib\\site-packages (from requests<3.0.0,>=2.13.0->spacy>=2.3.2->resume-parser) (1.26.15)\n",
      "Requirement already satisfied: colorama in c:\\users\\aryan\\desktop\\codeshastra\\codeshahstra_hojayega\\codes\\lib\\site-packages (from tqdm->nltk>=3.5->resume-parser) (0.4.6)\n",
      "Requirement already satisfied: pycparser in c:\\users\\aryan\\desktop\\codeshastra\\codeshahstra_hojayega\\codes\\lib\\site-packages (from cffi>=1.12->cryptography>=36.0.0->pdfminer.six>=20200517->resume-parser) (2.21)\n",
      "Building wheels for collected packages: stemming, tika\n",
      "  Building wheel for stemming (setup.py): started\n",
      "  Building wheel for stemming (setup.py): finished with status 'done'\n",
      "  Created wheel for stemming: filename=stemming-1.0.1-py3-none-any.whl size=11146 sha256=85b792491644a27faee1656e5247f415d93683e16f797a33ebc6e2b985dc2f2d\n",
      "  Stored in directory: c:\\users\\aryan\\appdata\\local\\pip\\cache\\wheels\\c5\\f9\\3f\\8fe1ec182ce66145d7ded39bad9a690960469dc350fbec0181\n",
      "  Building wheel for tika (setup.py): started\n",
      "  Building wheel for tika (setup.py): finished with status 'done'\n",
      "  Created wheel for tika: filename=tika-2.6.0-py3-none-any.whl size=32692 sha256=7fa74877ae769092a8028b098d4b51247ce991cfa22d07affcc5de4f83b1192c\n",
      "  Stored in directory: c:\\users\\aryan\\appdata\\local\\pip\\cache\\wheels\\5f\\71\\c7\\b757709531121b1700cffda5b6b0d4aad095fb507ec84316d0\n",
      "Successfully built stemming tika\n",
      "Installing collected packages: Wand, tika, stemming, phonenumbers, pdfplumber, resume-parser\n",
      "Successfully installed Wand-0.6.11 pdfplumber-0.8.0 phonenumbers-8.13.8 resume-parser-0.8.4 stemming-1.0.1 tika-2.6.0\n"
     ]
    },
    {
     "name": "stderr",
     "output_type": "stream",
     "text": [
      "WARNING: You are using pip version 21.3.1; however, version 23.0.1 is available.\n",
      "You should consider upgrading via the 'c:\\Users\\ARYAN\\Desktop\\Codeshastra\\codeshahstra_hojayega\\codes\\Scripts\\python.exe -m pip install --upgrade pip' command.\n"
     ]
    }
   ],
   "source": [
    "pip install resume-parser"
   ]
  },
  {
   "cell_type": "code",
   "execution_count": 18,
   "metadata": {},
   "outputs": [
    {
     "name": "stderr",
     "output_type": "stream",
     "text": [
      "c:\\Users\\ARYAN\\Desktop\\Codeshastra\\codeshahstra_hojayega\\codes\\lib\\site-packages\\spacy\\util.py:275: UserWarning: [W031] Model 'en_training' (0.0.0) requires spaCy v2.2 and is incompatible with the current spaCy version (2.3.9). This may lead to unexpected results or runtime errors. To resolve this, download a newer compatible model or retrain your custom model with the current spaCy version. For more details and available updates, run: python -m spacy validate\n",
      "  warnings.warn(warn_msg)\n"
     ]
    }
   ],
   "source": [
    "from resume_parser import resumeparse"
   ]
  },
  {
   "cell_type": "code",
   "execution_count": 50,
   "metadata": {},
   "outputs": [],
   "source": [
    "data = resumeparse.read_file(r'C:\\Users\\ARYAN\\Desktop\\Codeshastra\\codeshahstra_hojayega\\flask-backend\\static\\test\\Resumetest1.pdf')"
   ]
  },
  {
   "cell_type": "code",
   "execution_count": 52,
   "metadata": {},
   "outputs": [],
   "source": [
    "x = ['JW MAriot', 'Bhagwati']\n",
    "data['Companies worked at'] = x"
   ]
  },
  {
   "cell_type": "code",
   "execution_count": 53,
   "metadata": {},
   "outputs": [
    {
     "data": {
      "text/plain": [
       "{'email': 'aryanmehta765@gmail.com',\n",
       " 'phone': '9137835931',\n",
       " 'name': 'Aryan Mehta',\n",
       " 'total_exp': 5,\n",
       " 'university': [],\n",
       " 'designition': [],\n",
       " 'degree': [],\n",
       " 'skills': [':', 'Bartending', ' Sousse Chef'],\n",
       " 'Companies worked at': ['JW MAriot', 'Bhagwati']}"
      ]
     },
     "execution_count": 53,
     "metadata": {},
     "output_type": "execute_result"
    }
   ],
   "source": [
    "data"
   ]
  }
 ],
 "metadata": {
  "kernelspec": {
   "display_name": "codes",
   "language": "python",
   "name": "python3"
  },
  "language_info": {
   "codemirror_mode": {
    "name": "ipython",
    "version": 3
   },
   "file_extension": ".py",
   "mimetype": "text/x-python",
   "name": "python",
   "nbconvert_exporter": "python",
   "pygments_lexer": "ipython3",
   "version": "3.10.11"
  },
  "orig_nbformat": 4
 },
 "nbformat": 4,
 "nbformat_minor": 2
}
