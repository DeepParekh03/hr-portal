{
 "cells": [
  {
   "cell_type": "code",
   "execution_count": 82,
   "metadata": {},
   "outputs": [],
   "source": [
    "from deepface import DeepFace"
   ]
  },
  {
   "cell_type": "code",
   "execution_count": 113,
   "metadata": {},
   "outputs": [],
   "source": [
    "import os\n",
    "# assign directory\n",
    "directory = r'C:\\Users\\ARYAN\\Desktop\\Codeshastra\\codeshahstra_hojayega\\flask-backend\\static\\test\\Faces'\n",
    "verification2 = []\n",
    "# iterate over files in\n",
    "# that directory\n",
    "for filename in os.listdir(directory):\n",
    "    f = os.path.join(directory, filename)\n",
    "    if os.path.isfile(f):\n",
    "        verification1 = DeepFace.verify(img1_path = f, img2_path = r'C:\\Users\\ARYAN\\Desktop\\Codeshastra\\codeshahstra_hojayega\\flask-backend\\static\\test\\Ishaantest.jpg',model_name = 'SFace' )\n",
    "        verification2.append(verification1['verified'])\n",
    "        if verification1['verified'] == True:\n",
    "            verification = filename\n",
    "            break\n",
    "        # else:\n",
    "        #     verification = \"Aryan Mehta\"\n",
    "        "
   ]
  },
  {
   "cell_type": "code",
   "execution_count": 109,
   "metadata": {},
   "outputs": [
    {
     "data": {
      "text/plain": [
       "[True]"
      ]
     },
     "execution_count": 109,
     "metadata": {},
     "output_type": "execute_result"
    }
   ],
   "source": [
    "verification2"
   ]
  },
  {
   "cell_type": "code",
   "execution_count": 114,
   "metadata": {},
   "outputs": [
    {
     "data": {
      "text/plain": [
       "'Ishaan Shah.jpg'"
      ]
     },
     "execution_count": 114,
     "metadata": {},
     "output_type": "execute_result"
    }
   ],
   "source": [
    "verification"
   ]
  },
  {
   "cell_type": "code",
   "execution_count": 22,
   "metadata": {},
   "outputs": [],
   "source": [
    "import re"
   ]
  },
  {
   "cell_type": "code",
   "execution_count": 89,
   "metadata": {},
   "outputs": [
    {
     "data": {
      "text/plain": [
       "'Aryan Mehta'"
      ]
     },
     "execution_count": 89,
     "metadata": {},
     "output_type": "execute_result"
    }
   ],
   "source": [
    "s = re.sub(r'\\.jpg$', '', verification)\n",
    "s"
   ]
  },
  {
   "cell_type": "code",
   "execution_count": 31,
   "metadata": {},
   "outputs": [],
   "source": [
    "models = [\n",
    "  \"VGG-Face\", \n",
    "  \"Facenet\", \n",
    "  \"Facenet512\", \n",
    "  \"OpenFace\", \n",
    "  \"DeepFace\", \n",
    "  \"DeepID\", \n",
    "  \"ArcFace\", \n",
    "  \"Dlib\", \n",
    "  \"SFace\",\n",
    "]"
   ]
  },
  {
   "cell_type": "code",
   "execution_count": 30,
   "metadata": {},
   "outputs": [],
   "source": [
    "x = []"
   ]
  },
  {
   "cell_type": "code",
   "execution_count": 71,
   "metadata": {},
   "outputs": [
    {
     "name": "stdout",
     "output_type": "stream",
     "text": [
      "sface weights will be downloaded...\n"
     ]
    },
    {
     "name": "stderr",
     "output_type": "stream",
     "text": [
      "Downloading...\n",
      "From: https://github.com/opencv/opencv_zoo/raw/master/models/face_recognition_sface/face_recognition_sface_2021dec.onnx\n",
      "To: C:\\Users\\ARYAN\\.deepface\\weights\\face_recognition_sface_2021dec.onnx\n",
      "100%|██████████| 38.7M/38.7M [00:10<00:00, 3.78MB/s]\n"
     ]
    },
    {
     "data": {
      "text/plain": [
       "{'verified': False,\n",
       " 'distance': 0.9925570991972114,\n",
       " 'threshold': 0.593,\n",
       " 'model': 'SFace',\n",
       " 'detector_backend': 'opencv',\n",
       " 'similarity_metric': 'cosine',\n",
       " 'facial_areas': {'img1': {'x': 507, 'y': 236, 'w': 342, 'h': 342},\n",
       "  'img2': {'x': 380, 'y': 44, 'w': 473, 'h': 473}},\n",
       " 'time': 13.6}"
      ]
     },
     "execution_count": 71,
     "metadata": {},
     "output_type": "execute_result"
    }
   ],
   "source": [
    "verification1 = DeepFace.verify(img1_path = r'C:\\Users\\ARYAN\\Desktop\\Codeshastra\\codeshahstra_hojayega\\flask-backend\\static\\test\\Faces\\Aryan Mehta.jpg', img2_path = r'C:\\Users\\ARYAN\\Desktop\\Codeshastra\\codeshahstra_hojayega\\flask-backend\\static\\test\\Ishaantest.jpg',model_name = models[8])\n",
    "verification1\n"
   ]
  },
  {
   "cell_type": "code",
   "execution_count": 25,
   "metadata": {},
   "outputs": [
    {
     "data": {
      "text/plain": [
       "{'verified': True,\n",
       " 'distance': 0.33692229110946426,\n",
       " 'threshold': 0.4,\n",
       " 'model': 'VGG-Face',\n",
       " 'detector_backend': 'opencv',\n",
       " 'similarity_metric': 'cosine',\n",
       " 'facial_areas': {'img1': {'x': 380, 'y': 44, 'w': 473, 'h': 473},\n",
       "  'img2': {'x': 650, 'y': 267, 'w': 278, 'h': 278}},\n",
       " 'time': 1.16}"
      ]
     },
     "execution_count": 25,
     "metadata": {},
     "output_type": "execute_result"
    }
   ],
   "source": [
    "verification1"
   ]
  }
 ],
 "metadata": {
  "kernelspec": {
   "display_name": "codes",
   "language": "python",
   "name": "python3"
  },
  "language_info": {
   "codemirror_mode": {
    "name": "ipython",
    "version": 3
   },
   "file_extension": ".py",
   "mimetype": "text/x-python",
   "name": "python",
   "nbconvert_exporter": "python",
   "pygments_lexer": "ipython3",
   "version": "3.10.11"
  },
  "orig_nbformat": 4
 },
 "nbformat": 4,
 "nbformat_minor": 2
}
